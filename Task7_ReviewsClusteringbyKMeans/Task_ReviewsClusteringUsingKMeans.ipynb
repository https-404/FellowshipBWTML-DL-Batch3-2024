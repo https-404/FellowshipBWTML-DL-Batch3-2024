{
  "cells": [
    {
      "source": [
        "![wordcloud](wordcloud.png)\n",
        "\n",
        "As a Data Scientist working for a mobile app company, you usually find yourself applying product analytics to better understand user behavior, uncover patterns, and reveal insights to identify the great and not-so-great features. Recently, the number of negative reviews has increased on Google Play, and as a consequence, the app's rating has been decreasing. The team has requested you to analyze the situation and make sense of the negative reviews.\n",
        "\n",
        "It's up to you to apply K-means clustering from scikit-learn and NLP techniques through NLTK to sort text data from negative reviews in the Google Play Store into categories!\n",
        "\n",
        "## The Data\n",
        "\n",
        "A dataset has been shared with a sample of reviews and their respective scores (from 1 to 5) in the Google Play Store. A summary and preview are provided below.\n",
        "\n",
        "# reviews.csv\n",
        "\n",
        "| Column     | Description              |\n",
        "|------------|--------------------------|\n",
        "| `'content'` | Content (text) of each review. |\n",
        "| `'score'` | Score assigned to the review by the user as an integer (from 1 to 5). |"
      ],
      "metadata": {
        "id": "c79a760b-d438-41bb-b1a1-2578773c0fe0"
      },
      "cell_type": "markdown",
      "id": "c79a760b-d438-41bb-b1a1-2578773c0fe0"
    },
    {
      "source": [
        "import pandas as pd\n",
        "from sklearn.feature_extraction.text import TfidfVectorizer\n",
        "from sklearn.cluster import KMeans\n",
        "from nltk.corpus import stopwords\n",
        "from nltk.tokenize import word_tokenize\n",
        "import nltk\n",
        "import re\n",
        "import matplotlib.pyplot as plt\n",
        "import seaborn as sns"
      ],
      "metadata": {
        "executionCancelledAt": null,
        "executionTime": 2549,
        "lastExecutedAt": 1720631139848,
        "lastExecutedByKernel": "38fa4f9d-01e5-4acb-bf3b-15411647eebd",
        "lastScheduledRunId": null,
        "lastSuccessfullyExecutedCode": "# Import necessary libraries\nimport pandas as pd\nimport numpy as np\nfrom sklearn.feature_extraction.text import TfidfVectorizer\nfrom sklearn.cluster import KMeans\nimport nltk\nfrom nltk.corpus import stopwords\nfrom nltk.tokenize import word_tokenize",
        "id": "48172b7a-d771-435b-a6fe-c99134ac5eba"
      },
      "cell_type": "code",
      "id": "48172b7a-d771-435b-a6fe-c99134ac5eba",
      "outputs": [],
      "execution_count": 4
    },
    {
      "source": [
        "# Download necessary files from NLTK:\n",
        "# punkt -> Tokenization\n",
        "# stopwords -> Stop words removal\n",
        "# Download NLTK data\n",
        "nltk.download('punkt')\n",
        "nltk.download('stopwords')"
      ],
      "metadata": {
        "executionCancelledAt": null,
        "executionTime": null,
        "lastExecutedAt": null,
        "lastExecutedByKernel": null,
        "lastScheduledRunId": null,
        "lastSuccessfullyExecutedCode": null,
        "outputsMetadata": {
          "0": {
            "height": 101,
            "type": "stream"
          }
        },
        "id": "8a6577b0-9915-43c7-b1db-b0c106a71cca",
        "outputId": "0ab135d2-7e1b-49eb-de09-e9aa8a4e27d3",
        "colab": {
          "base_uri": "https://localhost:8080/"
        }
      },
      "cell_type": "code",
      "id": "8a6577b0-9915-43c7-b1db-b0c106a71cca",
      "outputs": [
        {
          "output_type": "stream",
          "name": "stderr",
          "text": [
            "[nltk_data] Downloading package punkt to /root/nltk_data...\n",
            "[nltk_data]   Package punkt is already up-to-date!\n",
            "[nltk_data] Downloading package stopwords to /root/nltk_data...\n",
            "[nltk_data]   Package stopwords is already up-to-date!\n"
          ]
        },
        {
          "output_type": "execute_result",
          "data": {
            "text/plain": [
              "True"
            ]
          },
          "metadata": {},
          "execution_count": 5
        }
      ],
      "execution_count": 5
    },
    {
      "source": [
        "# Load the dataset\n",
        "file_path = '/content/reviews.csv'\n",
        "reviews_df = pd.read_csv(file_path)"
      ],
      "metadata": {
        "executionCancelledAt": null,
        "executionTime": 269,
        "lastExecutedAt": 1720557074405,
        "lastExecutedByKernel": "5f98952b-fa90-414a-8856-39a68b3bdd75",
        "lastScheduledRunId": null,
        "lastSuccessfullyExecutedCode": "# Load the reviews dataset and preview it\nreviews = pd.read_csv('reviews.csv')\nreviews.head()",
        "outputsMetadata": {
          "0": {
            "height": 196,
            "type": "dataFrame"
          }
        },
        "id": "7fbf3e3f-0526-4f53-908e-0bf9913f213d"
      },
      "cell_type": "code",
      "id": "7fbf3e3f-0526-4f53-908e-0bf9913f213d",
      "outputs": [],
      "execution_count": 6
    },
    {
      "source": [
        "# Filter negative reviews (score of 1 or 2)\n",
        "negative_reviews = reviews_df[reviews_df['score'] <= 2]"
      ],
      "metadata": {
        "executionCancelledAt": null,
        "executionTime": 10,
        "lastExecutedAt": 1720557076395,
        "lastExecutedByKernel": "5f98952b-fa90-414a-8856-39a68b3bdd75",
        "lastScheduledRunId": null,
        "lastSuccessfullyExecutedCode": "# Your code starts here\n# Cells are free! Use as many as you need ;)",
        "id": "3b2697f7-e85a-4a11-bfbb-59af07b89c75"
      },
      "cell_type": "code",
      "id": "3b2697f7-e85a-4a11-bfbb-59af07b89c75",
      "outputs": [],
      "execution_count": 7
    },
    {
      "cell_type": "code",
      "source": [
        "# Preprocessing function\n",
        "def preprocess_text(text):\n",
        "    # Tokenize\n",
        "    tokens = word_tokenize(text.lower())\n",
        "    # Remove non-alphabetic characters and stop words\n",
        "    stop_words = set(stopwords.words('english'))\n",
        "    tokens = [re.sub(r'[^a-z]', '', token) for token in tokens if token.isalpha() and token not in stop_words]\n",
        "    return ' '.join(tokens)"
      ],
      "metadata": {
        "id": "Orc8PKDSXUI3"
      },
      "id": "Orc8PKDSXUI3",
      "execution_count": 8,
      "outputs": []
    },
    {
      "cell_type": "code",
      "source": [
        "# Preprocess the reviews\n",
        "negative_reviews['cleaned_content'] = negative_reviews['content'].apply(preprocess_text)\n"
      ],
      "metadata": {
        "colab": {
          "base_uri": "https://localhost:8080/"
        },
        "id": "4J3uWMFTXdPx",
        "outputId": "1697c25a-4e3d-41b6-e2b2-6f53645ae951"
      },
      "id": "4J3uWMFTXdPx",
      "execution_count": 9,
      "outputs": [
        {
          "output_type": "stream",
          "name": "stderr",
          "text": [
            "<ipython-input-9-12d3db6153e5>:2: SettingWithCopyWarning: \n",
            "A value is trying to be set on a copy of a slice from a DataFrame.\n",
            "Try using .loc[row_indexer,col_indexer] = value instead\n",
            "\n",
            "See the caveats in the documentation: https://pandas.pydata.org/pandas-docs/stable/user_guide/indexing.html#returning-a-view-versus-a-copy\n",
            "  negative_reviews['cleaned_content'] = negative_reviews['content'].apply(preprocess_text)\n"
          ]
        }
      ]
    },
    {
      "cell_type": "code",
      "source": [
        "# Save the results in a DataFrame\n",
        "preprocessed_reviews = negative_reviews[['content', 'cleaned_content', 'score']]"
      ],
      "metadata": {
        "id": "oFlJPg76XgXx"
      },
      "id": "oFlJPg76XgXx",
      "execution_count": 10,
      "outputs": []
    },
    {
      "cell_type": "code",
      "source": [
        "# Vectorize using TF-IDF\n",
        "vectorizer = TfidfVectorizer()\n",
        "tfidf_matrix = vectorizer.fit_transform(preprocessed_reviews['cleaned_content'])"
      ],
      "metadata": {
        "id": "yCHvwfV2XkMZ"
      },
      "id": "yCHvwfV2XkMZ",
      "execution_count": 11,
      "outputs": []
    },
    {
      "cell_type": "code",
      "source": [
        "# Apply K-means clustering\n",
        "num_clusters = 5\n",
        "kmeans = KMeans(n_clusters=num_clusters, random_state=42)\n",
        "kmeans.fit(tfidf_matrix)\n",
        "categories = kmeans.labels_\n"
      ],
      "metadata": {
        "colab": {
          "base_uri": "https://localhost:8080/"
        },
        "id": "Xzbn10iWXoPj",
        "outputId": "41ca9ec8-ed9d-4df0-d64c-bf7e3b12d476"
      },
      "id": "Xzbn10iWXoPj",
      "execution_count": 12,
      "outputs": [
        {
          "output_type": "stream",
          "name": "stderr",
          "text": [
            "/usr/local/lib/python3.10/dist-packages/sklearn/cluster/_kmeans.py:1416: FutureWarning: The default value of `n_init` will change from 10 to 'auto' in 1.4. Set the value of `n_init` explicitly to suppress the warning\n",
            "  super()._check_params_vs_input(X, default_n_init=10)\n"
          ]
        }
      ]
    },
    {
      "cell_type": "code",
      "source": [
        "# Add the cluster labels to the DataFrame\n",
        "preprocessed_reviews['category'] = categories"
      ],
      "metadata": {
        "colab": {
          "base_uri": "https://localhost:8080/"
        },
        "id": "wxrbwE9eXsI1",
        "outputId": "dc144447-aa07-4371-c184-6472183b3af8"
      },
      "id": "wxrbwE9eXsI1",
      "execution_count": 13,
      "outputs": [
        {
          "output_type": "stream",
          "name": "stderr",
          "text": [
            "<ipython-input-13-c9a7610b0663>:2: SettingWithCopyWarning: \n",
            "A value is trying to be set on a copy of a slice from a DataFrame.\n",
            "Try using .loc[row_indexer,col_indexer] = value instead\n",
            "\n",
            "See the caveats in the documentation: https://pandas.pydata.org/pandas-docs/stable/user_guide/indexing.html#returning-a-view-versus-a-copy\n",
            "  preprocessed_reviews['category'] = categories\n"
          ]
        }
      ]
    },
    {
      "cell_type": "code",
      "source": [
        "\n",
        "# Find the most frequent term in each cluster\n",
        "terms = vectorizer.get_feature_names_out()\n",
        "topic_terms = []\n",
        "\n",
        "for i in range(num_clusters):\n",
        "    cluster_indices = (preprocessed_reviews['category'] == i)\n",
        "    cluster_reviews = tfidf_matrix[cluster_indices]\n",
        "    centroid = kmeans.cluster_centers_[i]\n",
        "    top_term_index = centroid.argsort()[-1]\n",
        "    top_term = terms[top_term_index]\n",
        "    term_frequency = cluster_reviews[:, top_term_index].sum()\n",
        "    topic_terms.append([i, top_term, term_frequency])"
      ],
      "metadata": {
        "id": "7EP6jVpdXuzs"
      },
      "id": "7EP6jVpdXuzs",
      "execution_count": 14,
      "outputs": []
    },
    {
      "cell_type": "code",
      "source": [
        "# Store the results in a DataFrame\n",
        "topic_terms_df = pd.DataFrame(topic_terms, columns=['Cluster Label', 'Top Term', 'Frequency'])\n"
      ],
      "metadata": {
        "id": "1DLu7niLX3Jm"
      },
      "id": "1DLu7niLX3Jm",
      "execution_count": 15,
      "outputs": []
    },
    {
      "cell_type": "code",
      "source": [
        "print(preprocessed_reviews)\n",
        "print(topic_terms_df)"
      ],
      "metadata": {
        "colab": {
          "base_uri": "https://localhost:8080/"
        },
        "id": "Ge_ndoc1YBnI",
        "outputId": "df816477-800b-4e8b-9c27-2bda8c719e19"
      },
      "id": "Ge_ndoc1YBnI",
      "execution_count": 16,
      "outputs": [
        {
          "output_type": "stream",
          "name": "stdout",
          "text": [
            "                                                 content  \\\n",
            "0                          I cannot open the app anymore   \n",
            "1      I have been begging for a refund from this app...   \n",
            "2      Very costly for the premium version (approx In...   \n",
            "3      Used to keep me organized, but all the 2020 UP...   \n",
            "4                                    Dan Birthday Oct 28   \n",
            "...                                                  ...   \n",
            "11940  I loved it until I realized that the very feat...   \n",
            "11941  Gave it a test run and tried out the notificat...   \n",
            "11942  Looks great but since installing, my device on...   \n",
            "11943  This app looked good until I had to purchase i...   \n",
            "11944                                           It's OK!   \n",
            "\n",
            "                                         cleaned_content  score  category  \n",
            "0                                       open app anymore      1         2  \n",
            "1               begging refund app month nobody replying      1         2  \n",
            "2      costly premium version approx indian rupees pe...      1         3  \n",
            "3      used keep organized updates made mess things c...      1         1  \n",
            "4                                       dan birthday oct      1         1  \n",
            "...                                                  ...    ...       ...  \n",
            "11940  loved realized feature got download first plac...      2         3  \n",
            "11941  gave test run tried notifications hear thing a...      2         1  \n",
            "11942  looks great since installing device lasts half...      2         1  \n",
            "11943  app looked good purchase get week view everyti...      2         2  \n",
            "11944                                                 ok      2         1  \n",
            "\n",
            "[4850 rows x 4 columns]\n",
            "   Cluster Label Top Term   Frequency\n",
            "0              0      bad   31.708231\n",
            "1              1    tasks   51.553613\n",
            "2              2      app  189.951095\n",
            "3              3  version   69.094308\n",
            "4              4     work   71.848163\n"
          ]
        }
      ]
    },
    {
      "cell_type": "code",
      "source": [
        "# Visualize the clusters\n",
        "plt.figure(figsize=(12, 6))\n",
        "sns.countplot(x='category', data=preprocessed_reviews, palette='viridis')\n",
        "plt.title('Distribution of Reviews Across Clusters')\n",
        "plt.xlabel('Cluster Label')\n",
        "plt.ylabel('Number of Reviews')\n",
        "plt.show()"
      ],
      "metadata": {
        "colab": {
          "base_uri": "https://localhost:8080/",
          "height": 656
        },
        "id": "NO1J0UVpX5yi",
        "outputId": "e700d5e1-7420-498a-e4d1-03b0f7e254d0"
      },
      "id": "NO1J0UVpX5yi",
      "execution_count": 17,
      "outputs": [
        {
          "output_type": "stream",
          "name": "stderr",
          "text": [
            "<ipython-input-17-f76cd6c75ff0>:3: FutureWarning: \n",
            "\n",
            "Passing `palette` without assigning `hue` is deprecated and will be removed in v0.14.0. Assign the `x` variable to `hue` and set `legend=False` for the same effect.\n",
            "\n",
            "  sns.countplot(x='category', data=preprocessed_reviews, palette='viridis')\n"
          ]
        },
        {
          "output_type": "display_data",
          "data": {
            "text/plain": [
              "<Figure size 1200x600 with 1 Axes>"
            ],
            "image/png": "[encoded data removed]"
          },
          "metadata": {}
        }
      ]
    },
    {
      "cell_type": "code",
      "source": [
        "# Visualize the top terms for each cluster\n",
        "plt.figure(figsize=(12, 6))\n",
        "sns.barplot(x='Cluster Label', y='Frequency', hue='Top Term', data=topic_terms_df, palette='viridis')\n",
        "plt.title('Top Terms in Each Cluster')\n",
        "plt.xlabel('Cluster Label')\n",
        "plt.ylabel('Frequency of Top Term')\n",
        "plt.legend(title='Top Term', loc='upper right')\n",
        "plt.show()"
      ],
      "metadata": {
        "id": "NsRebL5cX9YS"
      },
      "id": "NsRebL5cX9YS",
      "execution_count": null,
      "outputs": []
    }
  ],
  "metadata": {
    "colab": {
      "provenance": []
    },
    "kernelspec": {
      "display_name": "Python 3 (ipykernel)",
      "language": "python",
      "name": "python3"
    },
    "language_info": {
      "codemirror_mode": {
        "name": "ipython",
        "version": 3
      },
      "file_extension": ".py",
      "mimetype": "text/x-python",
      "name": "python",
      "nbconvert_exporter": "python",
      "pygments_lexer": "ipython3",
      "version": "3.10.12"
    }
  },
  "nbformat": 4,
  "nbformat_minor": 5
}
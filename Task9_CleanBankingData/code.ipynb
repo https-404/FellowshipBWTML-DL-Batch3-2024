{
 "cells": [
  {
   "cell_type": "markdown",
   "metadata": {},
   "source": [
    "Tidy a bank marketing campaign dataset by splitting it into subsets, updating values, converting data types, and storing it as multiple csv files.\n",
    "Project Description\n",
    "Data cleaning is an essential skill for data engineers, encompassing reading, modifying, splitting, and storing data.\n",
    "In this notebook, you will apply your data-cleaning skills to process information about marketing campaigns run by a bank.\n",
    "You will need to modify values, add new features, convert data types, and save data into multiple files.\n",
    "\n",
    "\n",
    "\n",
    "Project Instructions\n",
    "Subset, clean, and reformat the bank_marketing.csv dataset to create and store three new files based on the requirements detailed in the notebook.\n",
    "Split and tidy bank_marketing.csv, storing as three DataFrames called client, campaign, and economics, each containing the columns outlined in the notebook and formatted to the data types listed.\n",
    "Save the three DataFrames to csv files, without an index, as client.csv, campaign.csv, and economics.csv respectively.\n"
   ]
  },
  {
   "cell_type": "code",
   "execution_count": 3,
   "metadata": {},
   "outputs": [],
   "source": [
    "import pandas as pd\n",
    "import numpy as np"
   ]
  },
  {
   "cell_type": "markdown",
   "metadata": {},
   "source": [
    "#### Reading DATA"
   ]
  },
  {
   "cell_type": "code",
   "execution_count": 7,
   "metadata": {},
   "outputs": [],
   "source": [
    "\n",
    "# Load the dataset\n",
    "df = pd.read_csv(\"bank_marketing.csv\")\n",
    "\n"
   ]
  },
  {
   "cell_type": "markdown",
   "metadata": {},
   "source": [
    "## Splitting Data"
   ]
  },
  {
   "cell_type": "markdown",
   "metadata": {},
   "source": [
    "#### Client Dataframe and Cleaning"
   ]
  },
  {
   "cell_type": "code",
   "execution_count": 8,
   "metadata": {},
   "outputs": [
    {
     "name": "stderr",
     "output_type": "stream",
     "text": [
      "/tmp/ipykernel_5778/1667690448.py:6: FutureWarning: A value is trying to be set on a copy of a DataFrame or Series through chained assignment using an inplace method.\n",
      "The behavior will change in pandas 3.0. This inplace method will never work because the intermediate object on which we are setting values always behaves as a copy.\n",
      "\n",
      "For example, when doing 'df[col].method(value, inplace=True)', try using 'df.method({col: value}, inplace=True)' or df[col] = df[col].method(value) instead, to perform the operation inplace on the original object.\n",
      "\n",
      "\n",
      "  client_df['age'].fillna(client_df['age'].median(), inplace=True)\n",
      "/tmp/ipykernel_5778/1667690448.py:6: SettingWithCopyWarning: \n",
      "A value is trying to be set on a copy of a slice from a DataFrame\n",
      "\n",
      "See the caveats in the documentation: https://pandas.pydata.org/pandas-docs/stable/user_guide/indexing.html#returning-a-view-versus-a-copy\n",
      "  client_df['age'].fillna(client_df['age'].median(), inplace=True)\n",
      "/tmp/ipykernel_5778/1667690448.py:9: SettingWithCopyWarning: \n",
      "A value is trying to be set on a copy of a slice from a DataFrame.\n",
      "Try using .loc[row_indexer,col_indexer] = value instead\n",
      "\n",
      "See the caveats in the documentation: https://pandas.pydata.org/pandas-docs/stable/user_guide/indexing.html#returning-a-view-versus-a-copy\n",
      "  client_df['education'] = client_df['education'].replace({\n",
      "/tmp/ipykernel_5778/1667690448.py:17: FutureWarning: A value is trying to be set on a copy of a DataFrame or Series through chained assignment using an inplace method.\n",
      "The behavior will change in pandas 3.0. This inplace method will never work because the intermediate object on which we are setting values always behaves as a copy.\n",
      "\n",
      "For example, when doing 'df[col].method(value, inplace=True)', try using 'df.method({col: value}, inplace=True)' or df[col] = df[col].method(value) instead, to perform the operation inplace on the original object.\n",
      "\n",
      "\n",
      "  client_df[col].fillna('unknown', inplace=True)\n",
      "/tmp/ipykernel_5778/1667690448.py:17: SettingWithCopyWarning: \n",
      "A value is trying to be set on a copy of a slice from a DataFrame\n",
      "\n",
      "See the caveats in the documentation: https://pandas.pydata.org/pandas-docs/stable/user_guide/indexing.html#returning-a-view-versus-a-copy\n",
      "  client_df[col].fillna('unknown', inplace=True)\n",
      "/tmp/ipykernel_5778/1667690448.py:20: SettingWithCopyWarning: \n",
      "A value is trying to be set on a copy of a slice from a DataFrame.\n",
      "Try using .loc[row_indexer,col_indexer] = value instead\n",
      "\n",
      "See the caveats in the documentation: https://pandas.pydata.org/pandas-docs/stable/user_guide/indexing.html#returning-a-view-versus-a-copy\n",
      "  client_df['client_id'] = client_df['client_id'].astype(int)\n"
     ]
    }
   ],
   "source": [
    "# Cleaning the 'client' DataFrame\n",
    "client_columns = ['client_id', 'age', 'job', 'marital', 'education', 'credit_default', 'housing', 'loan']\n",
    "client_df = df[client_columns]\n",
    "\n",
    "# Fill missing values in 'age' with median\n",
    "client_df['age'].fillna(client_df['age'].median(), inplace=True)\n",
    "\n",
    "# Standardize 'education' levels (e.g., merging similar categories)\n",
    "client_df['education'] = client_df['education'].replace({\n",
    "    'basic.4y': 'basic', \n",
    "    'basic.6y': 'basic', \n",
    "    'basic.9y': 'basic'\n",
    "})\n",
    "\n",
    "# Replace missing values in categorical columns with 'unknown'\n",
    "for col in ['job', 'marital', 'education', 'credit_default', 'housing', 'loan']:\n",
    "    client_df[col].fillna('unknown', inplace=True)\n",
    "\n",
    "# Ensure 'client_id' is of integer type\n",
    "client_df['client_id'] = client_df['client_id'].astype(int)\n",
    "\n"
   ]
  },
  {
   "cell_type": "markdown",
   "metadata": {},
   "source": [
    "#### Campaign Dataframe with necessary Cleaning"
   ]
  },
  {
   "cell_type": "code",
   "execution_count": 9,
   "metadata": {},
   "outputs": [
    {
     "name": "stderr",
     "output_type": "stream",
     "text": [
      "/tmp/ipykernel_5778/354071778.py:6: SettingWithCopyWarning: \n",
      "A value is trying to be set on a copy of a slice from a DataFrame.\n",
      "Try using .loc[row_indexer,col_indexer] = value instead\n",
      "\n",
      "See the caveats in the documentation: https://pandas.pydata.org/pandas-docs/stable/user_guide/indexing.html#returning-a-view-versus-a-copy\n",
      "  campaign_df['pdays'] = campaign_df['pdays'].replace(999, np.nan)\n",
      "/tmp/ipykernel_5778/354071778.py:9: FutureWarning: A value is trying to be set on a copy of a DataFrame or Series through chained assignment using an inplace method.\n",
      "The behavior will change in pandas 3.0. This inplace method will never work because the intermediate object on which we are setting values always behaves as a copy.\n",
      "\n",
      "For example, when doing 'df[col].method(value, inplace=True)', try using 'df.method({col: value}, inplace=True)' or df[col] = df[col].method(value) instead, to perform the operation inplace on the original object.\n",
      "\n",
      "\n",
      "  campaign_df['poutcome'].fillna('unknown', inplace=True)\n",
      "/tmp/ipykernel_5778/354071778.py:9: SettingWithCopyWarning: \n",
      "A value is trying to be set on a copy of a slice from a DataFrame\n",
      "\n",
      "See the caveats in the documentation: https://pandas.pydata.org/pandas-docs/stable/user_guide/indexing.html#returning-a-view-versus-a-copy\n",
      "  campaign_df['poutcome'].fillna('unknown', inplace=True)\n",
      "/tmp/ipykernel_5778/354071778.py:12: SettingWithCopyWarning: \n",
      "A value is trying to be set on a copy of a slice from a DataFrame.\n",
      "Try using .loc[row_indexer,col_indexer] = value instead\n",
      "\n",
      "See the caveats in the documentation: https://pandas.pydata.org/pandas-docs/stable/user_guide/indexing.html#returning-a-view-versus-a-copy\n",
      "  campaign_df['campaign'] = campaign_df['campaign'].astype(int)\n",
      "/tmp/ipykernel_5778/354071778.py:15: SettingWithCopyWarning: \n",
      "A value is trying to be set on a copy of a slice from a DataFrame.\n",
      "Try using .loc[row_indexer,col_indexer] = value instead\n",
      "\n",
      "See the caveats in the documentation: https://pandas.pydata.org/pandas-docs/stable/user_guide/indexing.html#returning-a-view-versus-a-copy\n",
      "  campaign_df['y'] = campaign_df['y'].map({'yes': 1, 'no': 0})\n"
     ]
    }
   ],
   "source": [
    "\n",
    "# Cleaning the 'campaign' DataFrame\n",
    "campaign_columns = ['client_id', 'contact', 'month', 'campaign', 'pdays', 'previous', 'poutcome', 'y']\n",
    "campaign_df = df[campaign_columns]\n",
    "\n",
    "# Replace '999' in 'pdays' with NaN (indicating the client was never contacted before)\n",
    "campaign_df['pdays'] = campaign_df['pdays'].replace(999, np.nan)\n",
    "\n",
    "# Fill missing values in 'poutcome' with 'unknown'\n",
    "campaign_df['poutcome'].fillna('unknown', inplace=True)\n",
    "\n",
    "# Convert 'campaign' to integer\n",
    "campaign_df['campaign'] = campaign_df['campaign'].astype(int)\n",
    "\n",
    "# Map 'y' to binary values for easier analysis\n",
    "campaign_df['y'] = campaign_df['y'].map({'yes': 1, 'no': 0})\n",
    "\n",
    "\n"
   ]
  },
  {
   "cell_type": "markdown",
   "metadata": {},
   "source": [
    "#### Economices Dataframe and Cleaning"
   ]
  },
  {
   "cell_type": "code",
   "execution_count": 10,
   "metadata": {},
   "outputs": [
    {
     "name": "stderr",
     "output_type": "stream",
     "text": [
      "/tmp/ipykernel_5778/1165026060.py:7: FutureWarning: A value is trying to be set on a copy of a DataFrame or Series through chained assignment using an inplace method.\n",
      "The behavior will change in pandas 3.0. This inplace method will never work because the intermediate object on which we are setting values always behaves as a copy.\n",
      "\n",
      "For example, when doing 'df[col].method(value, inplace=True)', try using 'df.method({col: value}, inplace=True)' or df[col] = df[col].method(value) instead, to perform the operation inplace on the original object.\n",
      "\n",
      "\n",
      "  economics_df[col].fillna(economics_df[col].mean(), inplace=True)\n",
      "/tmp/ipykernel_5778/1165026060.py:7: SettingWithCopyWarning: \n",
      "A value is trying to be set on a copy of a slice from a DataFrame\n",
      "\n",
      "See the caveats in the documentation: https://pandas.pydata.org/pandas-docs/stable/user_guide/indexing.html#returning-a-view-versus-a-copy\n",
      "  economics_df[col].fillna(economics_df[col].mean(), inplace=True)\n",
      "/tmp/ipykernel_5778/1165026060.py:10: SettingWithCopyWarning: \n",
      "A value is trying to be set on a copy of a slice from a DataFrame.\n",
      "Try using .loc[row_indexer,col_indexer] = value instead\n",
      "\n",
      "See the caveats in the documentation: https://pandas.pydata.org/pandas-docs/stable/user_guide/indexing.html#returning-a-view-versus-a-copy\n",
      "  economics_df['client_id'] = economics_df['client_id'].astype(int)\n"
     ]
    },
    {
     "data": {
      "text/plain": [
       "(   client_id  age        job  marital    education credit_default housing loan\n",
       " 0          0   56  housemaid  married        basic             no      no   no\n",
       " 1          1   57   services  married  high.school        unknown      no   no\n",
       " 2          2   37   services  married  high.school             no     yes   no\n",
       " 3          3   40     admin.  married        basic             no      no   no\n",
       " 4          4   56   services  married  high.school             no      no  yes,\n",
       "    client_id    contact month  campaign  pdays  previous     poutcome  y\n",
       " 0          0  telephone   may         1    NaN         0  nonexistent  0\n",
       " 1          1  telephone   may         1    NaN         0  nonexistent  0\n",
       " 2          2  telephone   may         1    NaN         0  nonexistent  0\n",
       " 3          3  telephone   may         1    NaN         0  nonexistent  0\n",
       " 4          4  telephone   may         1    NaN         0  nonexistent  0,\n",
       "    client_id  emp_var_rate  cons_price_idx  cons_conf_idx  euribor3m  \\\n",
       " 0          0           1.1          93.994          -36.4      4.857   \n",
       " 1          1           1.1          93.994          -36.4      4.857   \n",
       " 2          2           1.1          93.994          -36.4      4.857   \n",
       " 3          3           1.1          93.994          -36.4      4.857   \n",
       " 4          4           1.1          93.994          -36.4      4.857   \n",
       " \n",
       "    nr_employed  \n",
       " 0       5191.0  \n",
       " 1       5191.0  \n",
       " 2       5191.0  \n",
       " 3       5191.0  \n",
       " 4       5191.0  )"
      ]
     },
     "execution_count": 10,
     "metadata": {},
     "output_type": "execute_result"
    }
   ],
   "source": [
    "\n",
    "# Cleaning the 'economics' DataFrame\n",
    "economics_columns = ['client_id', 'emp_var_rate', 'cons_price_idx', 'cons_conf_idx', 'euribor3m', 'nr_employed']\n",
    "economics_df = df[economics_columns]\n",
    "\n",
    "# Fill any missing economic values with the mean of their respective columns\n",
    "for col in ['emp_var_rate', 'cons_price_idx', 'cons_conf_idx', 'euribor3m', 'nr_employed']:\n",
    "    economics_df[col].fillna(economics_df[col].mean(), inplace=True)\n",
    "\n",
    "# Convert 'client_id' to integer to match the other DataFrames\n",
    "economics_df['client_id'] = economics_df['client_id'].astype(int)\n",
    "\n"
   ]
  },
  {
   "cell_type": "code",
   "execution_count": null,
   "metadata": {},
   "outputs": [],
   "source": [
    "# Saving the cleaned DataFrames to CSV files without the index\n",
    "client_df.to_csv('client.csv', index=False)\n",
    "campaign_df.to_csv('campaign.csv', index=False)\n",
    "economics_df.to_csv('economics.csv', index=False)\n",
    "\n",
    "# Display head of each cleaned DataFrame\n",
    "client_df.head(), campaign_df.head(), economics_df.head()"
   ]
  },
  {
   "cell_type": "code",
   "execution_count": null,
   "metadata": {},
   "outputs": [],
   "source": []
  }
 ],
 "metadata": {
  "kernelspec": {
   "display_name": ".venv",
   "language": "python",
   "name": "python3"
  },
  "language_info": {
   "codemirror_mode": {
    "name": "ipython",
    "version": 3
   },
   "file_extension": ".py",
   "mimetype": "text/x-python",
   "name": "python",
   "nbconvert_exporter": "python",
   "pygments_lexer": "ipython3",
   "version": "3.10.12"
  }
 },
 "nbformat": 4,
 "nbformat_minor": 2
}
